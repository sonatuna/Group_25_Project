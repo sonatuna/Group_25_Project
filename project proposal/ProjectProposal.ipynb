{
 "cells": [
  {
   "cell_type": "code",
   "execution_count": 8,
   "id": "4ab6bbc2-ce2a-4aa2-a83d-dbc4b0fce672",
   "metadata": {},
   "outputs": [
    {
     "name": "stderr",
     "output_type": "stream",
     "text": [
      "── \u001b[1mAttaching packages\u001b[22m ─────────────────────────────────────── tidyverse 1.3.2 ──\n",
      "\u001b[32m✔\u001b[39m \u001b[34mggplot2\u001b[39m 3.3.6      \u001b[32m✔\u001b[39m \u001b[34mpurrr  \u001b[39m 0.3.4 \n",
      "\u001b[32m✔\u001b[39m \u001b[34mtibble \u001b[39m 3.1.8      \u001b[32m✔\u001b[39m \u001b[34mdplyr  \u001b[39m 1.0.10\n",
      "\u001b[32m✔\u001b[39m \u001b[34mtidyr  \u001b[39m 1.2.1      \u001b[32m✔\u001b[39m \u001b[34mstringr\u001b[39m 1.4.1 \n",
      "\u001b[32m✔\u001b[39m \u001b[34mreadr  \u001b[39m 2.1.2      \u001b[32m✔\u001b[39m \u001b[34mforcats\u001b[39m 0.5.2 \n",
      "── \u001b[1mConflicts\u001b[22m ────────────────────────────────────────── tidyverse_conflicts() ──\n",
      "\u001b[31m✖\u001b[39m \u001b[34mdplyr\u001b[39m::\u001b[32mfilter()\u001b[39m masks \u001b[34mstats\u001b[39m::filter()\n",
      "\u001b[31m✖\u001b[39m \u001b[34mdplyr\u001b[39m::\u001b[32mlag()\u001b[39m    masks \u001b[34mstats\u001b[39m::lag()\n"
     ]
    }
   ],
   "source": [
    "library(cowplot)\n",
    "library(datateachr)\n",
    "library(digest)\n",
    "library(infer)\n",
    "library(repr)\n",
    "library(taxyvr)\n",
    "library(tidyverse)"
   ]
  },
  {
   "cell_type": "code",
   "execution_count": 14,
   "id": "35daccb9-af9f-4738-bd66-152f1940bd41",
   "metadata": {},
   "outputs": [
    {
     "data": {
      "text/html": [
       "<table class=\"dataframe\">\n",
       "<caption>A tibble: 6 × 2</caption>\n",
       "<thead>\n",
       "\t<tr><th scope=col>quality</th><th scope=col>mean</th></tr>\n",
       "\t<tr><th scope=col>&lt;int&gt;</th><th scope=col>&lt;dbl&gt;</th></tr>\n",
       "</thead>\n",
       "<tbody>\n",
       "\t<tr><td>3</td><td>24.90000</td></tr>\n",
       "\t<tr><td>4</td><td>36.24528</td></tr>\n",
       "\t<tr><td>5</td><td>56.51395</td></tr>\n",
       "\t<tr><td>6</td><td>40.86991</td></tr>\n",
       "\t<tr><td>7</td><td>35.02010</td></tr>\n",
       "\t<tr><td>8</td><td>33.44444</td></tr>\n",
       "</tbody>\n",
       "</table>\n"
      ],
      "text/latex": [
       "A tibble: 6 × 2\n",
       "\\begin{tabular}{ll}\n",
       " quality & mean\\\\\n",
       " <int> & <dbl>\\\\\n",
       "\\hline\n",
       "\t 3 & 24.90000\\\\\n",
       "\t 4 & 36.24528\\\\\n",
       "\t 5 & 56.51395\\\\\n",
       "\t 6 & 40.86991\\\\\n",
       "\t 7 & 35.02010\\\\\n",
       "\t 8 & 33.44444\\\\\n",
       "\\end{tabular}\n"
      ],
      "text/markdown": [
       "\n",
       "A tibble: 6 × 2\n",
       "\n",
       "| quality &lt;int&gt; | mean &lt;dbl&gt; |\n",
       "|---|---|\n",
       "| 3 | 24.90000 |\n",
       "| 4 | 36.24528 |\n",
       "| 5 | 56.51395 |\n",
       "| 6 | 40.86991 |\n",
       "| 7 | 35.02010 |\n",
       "| 8 | 33.44444 |\n",
       "\n"
      ],
      "text/plain": [
       "  quality mean    \n",
       "1 3       24.90000\n",
       "2 4       36.24528\n",
       "3 5       56.51395\n",
       "4 6       40.86991\n",
       "5 7       35.02010\n",
       "6 8       33.44444"
      ]
     },
     "metadata": {},
     "output_type": "display_data"
    }
   ],
   "source": [
    "wine_quality <- read.csv('winequality-red.csv', sep = \";\") |>\n",
    "    select(total.sulfur.dioxide, quality) |>\n",
    "    group_by(quality) |>\n",
    "    summarize(mean = mean(total.sulfur.dioxide))\n",
    "wine_quality"
   ]
  },
  {
   "cell_type": "markdown",
   "id": "c4d01cd7-f76f-4e51-87e7-511e95d7e009",
   "metadata": {},
   "source": [
    "Introduction\n",
    "- Why sulfur dioxide\n",
    "- Effect of ...\n",
    "- Research Question (why or why not)\n",
    "- Reason and supoortie articles\n",
    "- quality rating\n",
    "- Database, resource, reliability, author\n",
    "- hypothesis testing (null, alternative, signficance level)\n",
    "- bootstrap + confidence interval"
   ]
  },
  {
   "cell_type": "markdown",
   "id": "ed295bcf-68a5-45d0-af0e-3a2a3b5fbd8c",
   "metadata": {},
   "source": [
    "research question:\n",
    "Is there a significant difference in total sulphur dioxide levels between different quality rating? "
   ]
  },
  {
   "cell_type": "markdown",
   "id": "6cadf428-23b6-43a6-b867-c7d8313d131a",
   "metadata": {},
   "source": [
    "methods:\n",
    "- bootstrap\n",
    "- mean -- group by different samples\n",
    "- multiple hypothesis test \n",
    "- confidence interval\n",
    "- type 1 type 2 error analysis"
   ]
  },
  {
   "cell_type": "code",
   "execution_count": null,
   "id": "6acce3bd-03dd-4d1f-8a7b-efb2759b2944",
   "metadata": {},
   "outputs": [],
   "source": []
  }
 ],
 "metadata": {
  "kernelspec": {
   "display_name": "R",
   "language": "R",
   "name": "ir"
  },
  "language_info": {
   "codemirror_mode": "r",
   "file_extension": ".r",
   "mimetype": "text/x-r-source",
   "name": "R",
   "pygments_lexer": "r",
   "version": "4.1.3"
  }
 },
 "nbformat": 4,
 "nbformat_minor": 5
}
